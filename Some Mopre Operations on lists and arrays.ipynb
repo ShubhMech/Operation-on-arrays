{
 "cells": [
  {
   "cell_type": "markdown",
   "id": "3fe6c8a9-22b6-4473-8d33-fc9ae3012970",
   "metadata": {},
   "source": [
    "Solution to Middle Function"
   ]
  },
  {
   "cell_type": "code",
   "execution_count": 1,
   "id": "9180404c-ef2f-4b82-a7d9-0206d039f988",
   "metadata": {},
   "outputs": [],
   "source": [
    "def middle(lst):\n",
    "    # TODO\n",
    "    return lst[1:-1]"
   ]
  },
  {
   "cell_type": "markdown",
   "id": "c1625c74-adad-4eaa-80d3-f8ba59039390",
   "metadata": {},
   "source": [
    "Solution to 2D Lists"
   ]
  },
  {
   "cell_type": "code",
   "execution_count": null,
   "id": "9344e656-0fb7-4905-a9a8-5e2e2d11166d",
   "metadata": {},
   "outputs": [],
   "source": [
    "def sumDiagonal(a):\n",
    "    sum = 0\n",
    "    for i in range(len(a)):\n",
    "        sum += a[i][i]\n",
    "    return sum"
   ]
  },
  {
   "cell_type": "markdown",
   "id": "ec4bfc8a-06cc-422c-a784-417f888f9fd3",
   "metadata": {},
   "source": [
    "Solution to Best Score"
   ]
  },
  {
   "cell_type": "code",
   "execution_count": 3,
   "id": "6c6ca1f5-538d-464e-820e-99929957fb33",
   "metadata": {},
   "outputs": [],
   "source": [
    "def firstSecond(givenList):\n",
    "    # TODO\n",
    "    return sorted(givenList)[-1], sorted(givenList)[-2]"
   ]
  },
  {
   "cell_type": "markdown",
   "id": "fc030281-3296-4c74-a1f9-811999bccacd",
   "metadata": {},
   "source": [
    "Solution to Missing Number"
   ]
  },
  {
   "cell_type": "code",
   "execution_count": 4,
   "id": "415b4382-aa54-413d-aee4-1c4d2dff2608",
   "metadata": {},
   "outputs": [],
   "source": [
    "def missingNumber(myList, totalCount):\n",
    "    # TODO\n",
    "    aa=range(0,len(myList)+2)\n",
    "    aa=list(aa)\n",
    "    bb=sum(aa)\n",
    "    missing_num=bb-sum(myList)\n",
    "    return missing_num"
   ]
  },
  {
   "cell_type": "code",
   "execution_count": null,
   "id": "911061d0-0a8f-49c6-93a2-d8c756080c98",
   "metadata": {},
   "outputs": [],
   "source": []
  },
  {
   "cell_type": "code",
   "execution_count": 5,
   "id": "bc6e987c-7dc2-4032-a70a-c99016f3eb2c",
   "metadata": {},
   "outputs": [],
   "source": [
    "def removeDuplicates(myList):\n",
    "    dup=[]\n",
    "    for i in range(0,len(myList)):\n",
    "        for j in range(i+1,len(myList)):\n",
    "            if myList[i]==myList[j]:\n",
    "                dup.append(myList[j])\n",
    "    for i in dup:\n",
    "                \n",
    "        myList.remove(i)\n",
    "    return myList\n",
    "    # TODO"
   ]
  },
  {
   "cell_type": "code",
   "execution_count": null,
   "id": "01f4a8ba-f84f-4811-aaa7-7a43e70d04f7",
   "metadata": {},
   "outputs": [],
   "source": []
  },
  {
   "cell_type": "code",
   "execution_count": null,
   "id": "22b66219-c051-4ed5-8bcf-975828423463",
   "metadata": {},
   "outputs": [],
   "source": [
    "def pairSum(myList, sum):\n",
    "    result = []\n",
    "    for i in range(len(myList)):\n",
    "        for j in range(i+1,len(myList)):\n",
    "            if myList[i] + myList[j] == sum:\n",
    "                result.append(str(myList[i]) +\"+\"+ str(myList[j]))\n",
    "    return result"
   ]
  }
 ],
 "metadata": {
  "kernelspec": {
   "display_name": "Python 3",
   "language": "python",
   "name": "python3"
  },
  "language_info": {
   "codemirror_mode": {
    "name": "ipython",
    "version": 3
   },
   "file_extension": ".py",
   "mimetype": "text/x-python",
   "name": "python",
   "nbconvert_exporter": "python",
   "pygments_lexer": "ipython3",
   "version": "3.8.5"
  }
 },
 "nbformat": 4,
 "nbformat_minor": 5
}
