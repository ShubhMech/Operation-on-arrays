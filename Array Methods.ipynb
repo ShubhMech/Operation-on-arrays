{
 "cells": [
  {
   "cell_type": "markdown",
   "id": "c90f1787-2fdd-433c-ba13-45e54b6515ed",
   "metadata": {},
   "source": [
    "##### All methods availble on arrays "
   ]
  },
  {
   "cell_type": "code",
   "execution_count": 7,
   "id": "e7d203f2-74b4-40c8-aa16-d49419b26501",
   "metadata": {},
   "outputs": [
    {
     "name": "stdout",
     "output_type": "stream",
     "text": [
      "array('i', [9, 8, 7, 6, 5, 4, 3, 2, 1])\n"
     ]
    }
   ],
   "source": [
    "from array import *\n",
    "arr1= array(\"i\", [1,2,3,4,5,6,7,8,9])\n",
    "arr1.reverse()\n",
    "print(arr1)"
   ]
  },
  {
   "cell_type": "code",
   "execution_count": 10,
   "id": "de74cfd0-7196-4012-8ae9-40ae4a7c1508",
   "metadata": {},
   "outputs": [
    {
     "name": "stdout",
     "output_type": "stream",
     "text": [
      "[1, 2, 3, 4, 5, 6, 7, 8, 9]\n"
     ]
    }
   ],
   "source": [
    "print(sorted(arr1))"
   ]
  },
  {
   "cell_type": "code",
   "execution_count": 11,
   "id": "462d59dc-ef86-466f-b88d-dd399420f876",
   "metadata": {},
   "outputs": [
    {
     "data": {
      "text/plain": [
       "array('i', [9, 8, 7, 6, 5, 4, 3, 2, 1])"
      ]
     },
     "execution_count": 11,
     "metadata": {},
     "output_type": "execute_result"
    }
   ],
   "source": [
    "arr1"
   ]
  },
  {
   "cell_type": "code",
   "execution_count": 12,
   "id": "289b6133-985f-46ec-8605-008d2e993982",
   "metadata": {},
   "outputs": [
    {
     "data": {
      "text/plain": [
       "6"
      ]
     },
     "execution_count": 12,
     "metadata": {},
     "output_type": "execute_result"
    }
   ],
   "source": [
    "arr1[3]"
   ]
  },
  {
   "cell_type": "code",
   "execution_count": 13,
   "id": "35b386a8-063b-4e57-a0bd-142485b00476",
   "metadata": {},
   "outputs": [],
   "source": [
    "arr1.remove(2)"
   ]
  },
  {
   "cell_type": "code",
   "execution_count": 15,
   "id": "551f15dd-551f-45e1-9e5e-c4ef4d96cdfa",
   "metadata": {},
   "outputs": [],
   "source": [
    "arr1.insert(-2, 2)"
   ]
  },
  {
   "cell_type": "code",
   "execution_count": 16,
   "id": "4e257454-431d-42db-9c60-8f0da329c904",
   "metadata": {},
   "outputs": [
    {
     "data": {
      "text/plain": [
       "array('i', [9, 8, 7, 6, 5, 4, 2, 3, 1])"
      ]
     },
     "execution_count": 16,
     "metadata": {},
     "output_type": "execute_result"
    }
   ],
   "source": [
    "arr1"
   ]
  },
  {
   "cell_type": "code",
   "execution_count": 17,
   "id": "5342f157-8410-4f81-a7ca-ee697d083691",
   "metadata": {},
   "outputs": [],
   "source": [
    "arr1.reverse()"
   ]
  },
  {
   "cell_type": "code",
   "execution_count": 18,
   "id": "c5822817-3ae4-47d1-982e-f2d351ef4938",
   "metadata": {},
   "outputs": [],
   "source": [
    "arr1.append(10)"
   ]
  },
  {
   "cell_type": "code",
   "execution_count": 19,
   "id": "33f8ddfe-71f3-4909-90f9-a021da9c7969",
   "metadata": {},
   "outputs": [
    {
     "data": {
      "text/plain": [
       "array('i', [1, 3, 2, 4, 5, 6, 7, 8, 9, 10])"
      ]
     },
     "execution_count": 19,
     "metadata": {},
     "output_type": "execute_result"
    }
   ],
   "source": [
    "arr1"
   ]
  },
  {
   "cell_type": "code",
   "execution_count": 20,
   "id": "cd70b3cc-946e-4de6-93de-171cf0aab333",
   "metadata": {},
   "outputs": [],
   "source": [
    "list1= arr1.tolist()"
   ]
  },
  {
   "cell_type": "code",
   "execution_count": 21,
   "id": "ecd82339-5851-4c98-9425-1cc671da41b9",
   "metadata": {},
   "outputs": [
    {
     "data": {
      "text/plain": [
       "[1, 3, 2, 4, 5, 6, 7, 8, 9, 10]"
      ]
     },
     "execution_count": 21,
     "metadata": {},
     "output_type": "execute_result"
    }
   ],
   "source": [
    "list1"
   ]
  },
  {
   "cell_type": "code",
   "execution_count": 22,
   "id": "c0cdd3f5-f6f0-40b2-9eec-20ebea0bcbf9",
   "metadata": {},
   "outputs": [],
   "source": [
    "str1= arr1.tostring()"
   ]
  },
  {
   "cell_type": "code",
   "execution_count": 23,
   "id": "c2530a24-cef4-441a-9d4f-b273534e3e29",
   "metadata": {},
   "outputs": [
    {
     "data": {
      "text/plain": [
       "b'\\x01\\x00\\x00\\x00\\x03\\x00\\x00\\x00\\x02\\x00\\x00\\x00\\x04\\x00\\x00\\x00\\x05\\x00\\x00\\x00\\x06\\x00\\x00\\x00\\x07\\x00\\x00\\x00\\x08\\x00\\x00\\x00\\t\\x00\\x00\\x00\\n\\x00\\x00\\x00'"
      ]
     },
     "execution_count": 23,
     "metadata": {},
     "output_type": "execute_result"
    }
   ],
   "source": [
    "str1"
   ]
  },
  {
   "cell_type": "code",
   "execution_count": 24,
   "id": "97c97fef-5c1f-4fab-bdbf-cdda63db4ca3",
   "metadata": {},
   "outputs": [
    {
     "data": {
      "text/plain": [
       "(2714028766432, 10)"
      ]
     },
     "execution_count": 24,
     "metadata": {},
     "output_type": "execute_result"
    }
   ],
   "source": [
    "arr1.buffer_info()"
   ]
  },
  {
   "cell_type": "code",
   "execution_count": 29,
   "id": "47b5aa7c-6736-4c9d-8c40-b1994d5f6507",
   "metadata": {},
   "outputs": [],
   "source": [
    "arr2= arr1"
   ]
  },
  {
   "cell_type": "code",
   "execution_count": 30,
   "id": "838bf91e-b26e-4b19-84a0-4bd580f212fd",
   "metadata": {},
   "outputs": [],
   "source": [
    "del(arr2)"
   ]
  },
  {
   "cell_type": "code",
   "execution_count": 31,
   "id": "67bee1fa-a536-4273-a5d8-587cfb34ef90",
   "metadata": {},
   "outputs": [
    {
     "data": {
      "text/plain": [
       "array('i', [1, 3, 2, 4, 5, 6, 7, 8, 9, 10])"
      ]
     },
     "execution_count": 31,
     "metadata": {},
     "output_type": "execute_result"
    }
   ],
   "source": [
    "arr1"
   ]
  },
  {
   "cell_type": "code",
   "execution_count": 33,
   "id": "a310d857-01b1-4a12-b270-6d764b714b04",
   "metadata": {},
   "outputs": [],
   "source": [
    "arr2=arr1"
   ]
  },
  {
   "cell_type": "code",
   "execution_count": 34,
   "id": "f82f3160-dbd2-4594-9022-539687e7b04c",
   "metadata": {},
   "outputs": [],
   "source": [
    "arr2.fromlist(list1)"
   ]
  },
  {
   "cell_type": "code",
   "execution_count": 35,
   "id": "49ca2f88-7855-407a-ac13-c3f8210a709c",
   "metadata": {},
   "outputs": [
    {
     "data": {
      "text/plain": [
       "array('i', [1, 3, 2, 4, 5, 6, 7, 8, 9, 10, 1, 3, 2, 4, 5, 6, 7, 8, 9, 10])"
      ]
     },
     "execution_count": 35,
     "metadata": {},
     "output_type": "execute_result"
    }
   ],
   "source": [
    "arr2"
   ]
  },
  {
   "cell_type": "code",
   "execution_count": null,
   "id": "f5409ada-dbff-4586-9a62-cca606f8e66f",
   "metadata": {},
   "outputs": [],
   "source": []
  }
 ],
 "metadata": {
  "kernelspec": {
   "display_name": "Python 3",
   "language": "python",
   "name": "python3"
  },
  "language_info": {
   "codemirror_mode": {
    "name": "ipython",
    "version": 3
   },
   "file_extension": ".py",
   "mimetype": "text/x-python",
   "name": "python",
   "nbconvert_exporter": "python",
   "pygments_lexer": "ipython3",
   "version": "3.8.5"
  }
 },
 "nbformat": 4,
 "nbformat_minor": 5
}
