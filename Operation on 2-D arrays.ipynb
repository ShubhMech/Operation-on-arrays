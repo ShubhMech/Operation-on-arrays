{
 "cells": [
  {
   "cell_type": "code",
   "execution_count": 32,
   "id": "4c26d133-9ad6-4451-a1ba-37dbe6019bb2",
   "metadata": {},
   "outputs": [],
   "source": [
    "import numpy as np"
   ]
  },
  {
   "cell_type": "code",
   "execution_count": 33,
   "id": "d9eb1428-6dce-40c4-ac04-1baf2c0a22a0",
   "metadata": {},
   "outputs": [],
   "source": [
    "arr2= np.array([[1,2,3,4,5],[6,7,8,9,10]])"
   ]
  },
  {
   "cell_type": "code",
   "execution_count": 34,
   "id": "eed54fdf-5403-4d73-a556-696d7c8f5ba1",
   "metadata": {},
   "outputs": [
    {
     "data": {
      "text/plain": [
       "array([[ 1,  2,  3,  4,  5],\n",
       "       [ 6,  7,  8,  9, 10]])"
      ]
     },
     "execution_count": 34,
     "metadata": {},
     "output_type": "execute_result"
    }
   ],
   "source": [
    "arr2"
   ]
  },
  {
   "cell_type": "code",
   "execution_count": null,
   "id": "e69b4a1f-38da-4bd7-8d34-d38dc22223c0",
   "metadata": {},
   "outputs": [],
   "source": []
  },
  {
   "cell_type": "code",
   "execution_count": 37,
   "id": "585bfca7-2748-40f1-b8ab-982668c39f6c",
   "metadata": {},
   "outputs": [
    {
     "data": {
      "text/plain": [
       "array([1, 2, 3, 4, 5])"
      ]
     },
     "execution_count": 37,
     "metadata": {},
     "output_type": "execute_result"
    }
   ],
   "source": [
    "np.asarray([1,2,3,4,5])"
   ]
  },
  {
   "cell_type": "code",
   "execution_count": 38,
   "id": "505aab92-75b5-492f-8f8c-a9a0f9e2f99d",
   "metadata": {},
   "outputs": [],
   "source": [
    "list1= [5,6,7,\"uu\",\"ghr\"]"
   ]
  },
  {
   "cell_type": "code",
   "execution_count": 49,
   "id": "55017273-ffbf-4438-a478-ed41732d4f61",
   "metadata": {},
   "outputs": [],
   "source": [
    "arr1=np.asarray(list1)"
   ]
  },
  {
   "cell_type": "code",
   "execution_count": 40,
   "id": "5b5e57c9-bacc-4453-af5f-062bbe6548bd",
   "metadata": {},
   "outputs": [
    {
     "data": {
      "text/plain": [
       "2.0"
      ]
     },
     "execution_count": 40,
     "metadata": {},
     "output_type": "execute_result"
    }
   ],
   "source": [
    "np.ceil(1.5)"
   ]
  },
  {
   "cell_type": "code",
   "execution_count": 44,
   "id": "8109a9e1-562e-4daf-8611-b55497659645",
   "metadata": {},
   "outputs": [
    {
     "data": {
      "text/plain": [
       "-1.0"
      ]
     },
     "execution_count": 44,
     "metadata": {},
     "output_type": "execute_result"
    }
   ],
   "source": [
    "np.cos(3.141592653589793)"
   ]
  },
  {
   "cell_type": "code",
   "execution_count": 43,
   "id": "90e07014-a4dd-4c10-a352-eac920f2f247",
   "metadata": {},
   "outputs": [
    {
     "data": {
      "text/plain": [
       "3.141592653589793"
      ]
     },
     "execution_count": 43,
     "metadata": {},
     "output_type": "execute_result"
    }
   ],
   "source": [
    "np.pi"
   ]
  },
  {
   "cell_type": "code",
   "execution_count": 55,
   "id": "d02a7412-354c-4ba6-8514-93a14f2a8c09",
   "metadata": {},
   "outputs": [],
   "source": [
    "arr3=np.append(arr1,22)"
   ]
  },
  {
   "cell_type": "code",
   "execution_count": 59,
   "id": "ad51ca32-524f-4944-9708-06f177c1482b",
   "metadata": {},
   "outputs": [],
   "source": [
    "arr4=np.insert(arr3, -4,666)"
   ]
  },
  {
   "cell_type": "code",
   "execution_count": 60,
   "id": "4da1c24b-7a73-493f-87c9-fcdb7b74d3bb",
   "metadata": {},
   "outputs": [
    {
     "data": {
      "text/plain": [
       "array(['5', '6', '666', '7', 'uu', 'ghr', '22'], dtype='<U11')"
      ]
     },
     "execution_count": 60,
     "metadata": {},
     "output_type": "execute_result"
    }
   ],
   "source": [
    "arr4"
   ]
  },
  {
   "cell_type": "code",
   "execution_count": 62,
   "id": "a6a726d5-c916-4c00-828f-32e902eb63a8",
   "metadata": {},
   "outputs": [
    {
     "data": {
      "text/plain": [
       "array([[ 1, 66,  2,  3,  4,  5],\n",
       "       [ 6, 77,  7,  8,  9, 10]])"
      ]
     },
     "execution_count": 62,
     "metadata": {},
     "output_type": "execute_result"
    }
   ],
   "source": [
    "np.insert(arr2,1,[66,77],1)"
   ]
  },
  {
   "cell_type": "code",
   "execution_count": 69,
   "id": "ce8f88db-962a-4742-b616-7b96f36018f1",
   "metadata": {},
   "outputs": [],
   "source": [
    "arr33= np.ndarray([2,4])"
   ]
  },
  {
   "cell_type": "code",
   "execution_count": 71,
   "id": "ceed23cd-6162-48f5-9334-47ff2acd3dd3",
   "metadata": {},
   "outputs": [
    {
     "data": {
      "text/plain": [
       "array([[0.00000000e+000, 0.00000000e+000, 0.00000000e+000,\n",
       "        0.00000000e+000],\n",
       "       [0.00000000e+000, 8.35959073e-321, 7.23168526e-308,\n",
       "        3.11523242e-307]])"
      ]
     },
     "execution_count": 71,
     "metadata": {},
     "output_type": "execute_result"
    }
   ],
   "source": [
    "arr33"
   ]
  },
  {
   "cell_type": "code",
   "execution_count": 72,
   "id": "ecd43b67-2e00-40d7-9edb-446df01f3bf8",
   "metadata": {},
   "outputs": [
    {
     "data": {
      "text/plain": [
       "array([[6.13683785e-071],\n",
       "       [9.36374059e-076],\n",
       "       [1.43623279e+161],\n",
       "       [9.02133905e+217],\n",
       "       [5.92863223e-114],\n",
       "       [9.02133865e+217],\n",
       "       [9.02133843e+217],\n",
       "       [1.09363961e-094],\n",
       "       [6.13657267e-071],\n",
       "       [9.36374587e-076],\n",
       "       [1.05901196e+218],\n",
       "       [7.52132850e+130],\n",
       "       [7.53215929e+130],\n",
       "       [9.29602247e+242],\n",
       "       [7.60446783e+130],\n",
       "       [7.53432543e+130],\n",
       "       [6.61020264e-062],\n",
       "       [9.02133645e+217],\n",
       "       [9.31734083e+242],\n",
       "       [7.60446783e+130],\n",
       "       [7.53107621e+130],\n",
       "       [4.67485107e-062],\n",
       "       [6.13683785e-071],\n",
       "       [9.02133865e+217],\n",
       "       [6.13649668e-071],\n",
       "       [6.79427156e+247],\n",
       "       [7.54946406e+130],\n",
       "       [6.55490914e-260],\n",
       "       [1.03063392e-113],\n",
       "       [2.00008958e+174],\n",
       "       [5.38214630e+228],\n",
       "       [1.90857244e+185],\n",
       "       [8.02678501e-095],\n",
       "       [1.15939498e-012],\n",
       "       [6.01347002e-154],\n",
       "       [5.03507107e+175],\n",
       "       [8.02678501e-095],\n",
       "       [7.93885765e+068],\n",
       "       [1.23184610e+223],\n",
       "       [1.95132487e+227],\n",
       "       [4.70108369e+180],\n",
       "       [1.42853562e+248],\n",
       "       [9.77081644e+199],\n",
       "       [4.82336277e+228]])"
      ]
     },
     "execution_count": 72,
     "metadata": {},
     "output_type": "execute_result"
    }
   ],
   "source": [
    "np.ndarray([44,1])"
   ]
  },
  {
   "cell_type": "code",
   "execution_count": 73,
   "id": "d9641ef3-afca-4f2d-8a36-c48ab5fb9c4b",
   "metadata": {},
   "outputs": [
    {
     "data": {
      "text/plain": [
       "4.790866799273012e+246"
      ]
     },
     "execution_count": 73,
     "metadata": {},
     "output_type": "execute_result"
    }
   ],
   "source": [
    "np.mean(np.ndarray([44,1]))"
   ]
  },
  {
   "cell_type": "code",
   "execution_count": 76,
   "id": "b63295a8-01b4-423f-9264-2906ace7d2d3",
   "metadata": {},
   "outputs": [
    {
     "data": {
      "text/plain": [
       "inf"
      ]
     },
     "execution_count": 76,
     "metadata": {},
     "output_type": "execute_result"
    }
   ],
   "source": [
    "np.var(np.ndarray([44,1]))**0.5"
   ]
  },
  {
   "cell_type": "code",
   "execution_count": 79,
   "id": "276ef132-8b92-4d5f-bce7-d6612284a683",
   "metadata": {},
   "outputs": [
    {
     "data": {
      "text/plain": [
       "(2, 4)"
      ]
     },
     "execution_count": 79,
     "metadata": {},
     "output_type": "execute_result"
    }
   ],
   "source": [
    "arr33.shape"
   ]
  },
  {
   "cell_type": "code",
   "execution_count": 86,
   "id": "4fd01619-5a58-4985-b237-f11f20f9f72e",
   "metadata": {},
   "outputs": [],
   "source": [
    "list1.append(888)"
   ]
  },
  {
   "cell_type": "code",
   "execution_count": 87,
   "id": "89947ed6-423c-4fcd-b46f-4fd4cc06b443",
   "metadata": {},
   "outputs": [],
   "source": [
    "list2=list1.copy()"
   ]
  },
  {
   "cell_type": "code",
   "execution_count": 90,
   "id": "ddf548e8-4610-417d-a477-f74315b3bc94",
   "metadata": {},
   "outputs": [
    {
     "data": {
      "text/plain": [
       "888"
      ]
     },
     "execution_count": 90,
     "metadata": {},
     "output_type": "execute_result"
    }
   ],
   "source": [
    "list2.pop()"
   ]
  },
  {
   "cell_type": "code",
   "execution_count": 92,
   "id": "53c553d6-bda8-4cb7-af70-bb085077f0d7",
   "metadata": {},
   "outputs": [
    {
     "data": {
      "text/plain": [
       "[5, 6, 7, 'uu', 'ghr', 888]"
      ]
     },
     "execution_count": 92,
     "metadata": {},
     "output_type": "execute_result"
    }
   ],
   "source": [
    "list2"
   ]
  },
  {
   "cell_type": "code",
   "execution_count": 93,
   "id": "32aca774-9a36-4a93-96c3-f517aa9aa040",
   "metadata": {},
   "outputs": [],
   "source": [
    "arr4=np.asarray(list2).reshape(3,2)"
   ]
  },
  {
   "cell_type": "code",
   "execution_count": 94,
   "id": "ce56a342-99c1-49df-8a7a-eb4c3419faed",
   "metadata": {},
   "outputs": [
    {
     "data": {
      "text/plain": [
       "array([['5', '6'],\n",
       "       ['7', 'uu'],\n",
       "       ['ghr', '888']], dtype='<U11')"
      ]
     },
     "execution_count": 94,
     "metadata": {},
     "output_type": "execute_result"
    }
   ],
   "source": [
    "arr4"
   ]
  },
  {
   "cell_type": "code",
   "execution_count": 95,
   "id": "92a5cbc4-072f-4c59-9eb8-163fac8b01b1",
   "metadata": {},
   "outputs": [
    {
     "data": {
      "text/plain": [
       "array([['5', '6', '77'],\n",
       "       ['7', 'uu', 'uu'],\n",
       "       ['ghr', '888', 'kk']], dtype='<U11')"
      ]
     },
     "execution_count": 95,
     "metadata": {},
     "output_type": "execute_result"
    }
   ],
   "source": [
    "np.insert(arr4,2,[\"77\",\"uu\",\"kk\"],1)"
   ]
  },
  {
   "cell_type": "code",
   "execution_count": 96,
   "id": "e42896f5-21a5-4a92-9599-5decaa9d449a",
   "metadata": {},
   "outputs": [
    {
     "data": {
      "text/plain": [
       "array([['5', '6'],\n",
       "       ['7', 'uu'],\n",
       "       ['ghr', '888']], dtype='<U11')"
      ]
     },
     "execution_count": 96,
     "metadata": {},
     "output_type": "execute_result"
    }
   ],
   "source": [
    "arr4"
   ]
  },
  {
   "cell_type": "code",
   "execution_count": 101,
   "id": "4740a00c-57df-480e-9276-905694bd5c6e",
   "metadata": {},
   "outputs": [],
   "source": [
    "arr5=np.append(arr4,[[1,3]],0)"
   ]
  },
  {
   "cell_type": "code",
   "execution_count": 102,
   "id": "67970f6c-9aaa-4424-bb43-4c3cd507be25",
   "metadata": {},
   "outputs": [
    {
     "data": {
      "text/plain": [
       "array([['5', '6'],\n",
       "       ['7', 'uu'],\n",
       "       ['ghr', '888'],\n",
       "       ['1', '3']], dtype='<U11')"
      ]
     },
     "execution_count": 102,
     "metadata": {},
     "output_type": "execute_result"
    }
   ],
   "source": [
    "arr5"
   ]
  },
  {
   "cell_type": "code",
   "execution_count": 104,
   "id": "90d414d6-e78a-4968-ab72-2d8436de6a29",
   "metadata": {},
   "outputs": [
    {
     "data": {
      "text/plain": [
       "'uu'"
      ]
     },
     "execution_count": 104,
     "metadata": {},
     "output_type": "execute_result"
    }
   ],
   "source": [
    "arr5[1,1]"
   ]
  },
  {
   "cell_type": "code",
   "execution_count": 116,
   "id": "2774a3e1-2cf8-43b0-b338-00041ae3bf2f",
   "metadata": {},
   "outputs": [],
   "source": [
    "def access(array, row, col):\n",
    "    if row<=len(array)-1 and len(array[0])-1:\n",
    "        return(array[row][col])\n",
    "    else:\n",
    "        print(\"Enter correct indices\")"
   ]
  },
  {
   "cell_type": "code",
   "execution_count": 106,
   "id": "bb8e6cec-0de0-4287-859f-1a4cf30bc8d9",
   "metadata": {},
   "outputs": [
    {
     "data": {
      "text/plain": [
       "'uu'"
      ]
     },
     "execution_count": 106,
     "metadata": {},
     "output_type": "execute_result"
    }
   ],
   "source": [
    "access(arr5,1,1)"
   ]
  },
  {
   "cell_type": "code",
   "execution_count": 107,
   "id": "ac9e0ad3-e01a-4643-b2c6-63e789eb537f",
   "metadata": {},
   "outputs": [
    {
     "data": {
      "text/plain": [
       "'888'"
      ]
     },
     "execution_count": 107,
     "metadata": {},
     "output_type": "execute_result"
    }
   ],
   "source": [
    "access(arr5,2,1)"
   ]
  },
  {
   "cell_type": "code",
   "execution_count": 110,
   "id": "1c8174ee-78b1-41de-8be6-02677b6f8f2f",
   "metadata": {},
   "outputs": [
    {
     "data": {
      "text/plain": [
       "numpy.int32"
      ]
     },
     "execution_count": 110,
     "metadata": {},
     "output_type": "execute_result"
    }
   ],
   "source": [
    "type(arr2[0,1])"
   ]
  },
  {
   "cell_type": "code",
   "execution_count": 112,
   "id": "15ff3ef9-f06e-4204-83b4-37be1e637df9",
   "metadata": {},
   "outputs": [
    {
     "data": {
      "text/plain": [
       "(2, 5)"
      ]
     },
     "execution_count": 112,
     "metadata": {},
     "output_type": "execute_result"
    }
   ],
   "source": [
    "arr2.shape"
   ]
  },
  {
   "cell_type": "code",
   "execution_count": 113,
   "id": "6073c630-3933-4073-a0f9-28b042a90d3a",
   "metadata": {},
   "outputs": [
    {
     "data": {
      "text/plain": [
       "array([[ 1,  2,  3,  4,  5],\n",
       "       [ 6,  7,  8,  9, 10]])"
      ]
     },
     "execution_count": 113,
     "metadata": {},
     "output_type": "execute_result"
    }
   ],
   "source": [
    "arr2"
   ]
  },
  {
   "cell_type": "code",
   "execution_count": 114,
   "id": "545063c7-f0bc-426b-949c-298502c278bb",
   "metadata": {},
   "outputs": [
    {
     "data": {
      "text/plain": [
       "array([3., 8.])"
      ]
     },
     "execution_count": 114,
     "metadata": {},
     "output_type": "execute_result"
    }
   ],
   "source": [
    "np.mean(arr2,1)"
   ]
  },
  {
   "cell_type": "code",
   "execution_count": 115,
   "id": "55aa65da-1136-46ac-9c07-188453b363ce",
   "metadata": {},
   "outputs": [
    {
     "data": {
      "text/plain": [
       "array([2., 2.])"
      ]
     },
     "execution_count": 115,
     "metadata": {},
     "output_type": "execute_result"
    }
   ],
   "source": [
    "np.var(arr2,1)"
   ]
  },
  {
   "cell_type": "code",
   "execution_count": 117,
   "id": "8756533b-df73-4bf6-b2f6-c6018bc390a9",
   "metadata": {},
   "outputs": [
    {
     "name": "stdout",
     "output_type": "stream",
     "text": [
      "7\n",
      "ghr\n",
      "888\n",
      "1\n",
      "3\n"
     ]
    }
   ],
   "source": [
    "for i in range(len(arr5)):\n",
    "    for j in range(len(arr5[0])):\n",
    "        if i>j:\n",
    "            print(arr5[i,j])"
   ]
  },
  {
   "cell_type": "markdown",
   "id": "a082673d-5e87-4c82-bcda-d315a5de0e92",
   "metadata": {},
   "source": [
    "### Order of O(mn)"
   ]
  },
  {
   "cell_type": "code",
   "execution_count": null,
   "id": "b90865c0-cdda-4934-8fdf-579c98d8ad79",
   "metadata": {},
   "outputs": [],
   "source": []
  }
 ],
 "metadata": {
  "kernelspec": {
   "display_name": "Python 3",
   "language": "python",
   "name": "python3"
  },
  "language_info": {
   "codemirror_mode": {
    "name": "ipython",
    "version": 3
   },
   "file_extension": ".py",
   "mimetype": "text/x-python",
   "name": "python",
   "nbconvert_exporter": "python",
   "pygments_lexer": "ipython3",
   "version": "3.8.5"
  }
 },
 "nbformat": 4,
 "nbformat_minor": 5
}
